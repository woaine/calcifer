{
 "cells": [
  {
   "cell_type": "code",
   "execution_count": 4,
   "metadata": {},
   "outputs": [
    {
     "name": "stdout",
     "output_type": "stream",
     "text": [
      "sys.path: ['D:\\\\GitHub\\\\calcifer\\\\src', 'd:\\\\GitHub\\\\calcifer\\\\src', 'c:\\\\Users\\\\letic\\\\AppData\\\\Local\\\\Programs\\\\Python\\\\Python313\\\\python313.zip', 'c:\\\\Users\\\\letic\\\\AppData\\\\Local\\\\Programs\\\\Python\\\\Python313\\\\DLLs', 'c:\\\\Users\\\\letic\\\\AppData\\\\Local\\\\Programs\\\\Python\\\\Python313\\\\Lib', 'c:\\\\Users\\\\letic\\\\AppData\\\\Local\\\\Programs\\\\Python\\\\Python313', '', 'C:\\\\Users\\\\letic\\\\AppData\\\\Roaming\\\\Python\\\\Python313\\\\site-packages', 'C:\\\\Users\\\\letic\\\\AppData\\\\Roaming\\\\Python\\\\Python313\\\\site-packages\\\\win32', 'C:\\\\Users\\\\letic\\\\AppData\\\\Roaming\\\\Python\\\\Python313\\\\site-packages\\\\win32\\\\lib', 'C:\\\\Users\\\\letic\\\\AppData\\\\Roaming\\\\Python\\\\Python313\\\\site-packages\\\\Pythonwin', 'c:\\\\Users\\\\letic\\\\AppData\\\\Local\\\\Programs\\\\Python\\\\Python313\\\\Lib\\\\site-packages']\n"
     ]
    }
   ],
   "source": [
    "import pandas as pd\n",
    "import os\n",
    "import sys\n",
    "from dotenv import load_dotenv\n",
    "\n",
    "# Load environment variables from .env\n",
    "load_dotenv()\n",
    "\n",
    "# Add src/ to sys.path\n",
    "notebook_dir = os.path.dirname(os.path.realpath(\"__file__\"))\n",
    "src_path = os.path.abspath(os.path.join(notebook_dir, \"..\", \"src\"))\n",
    "if src_path not in sys.path:\n",
    "    sys.path.insert(0, src_path)\n",
    "\n",
    "print(\"sys.path:\", sys.path)\n",
    "\n",
    "# Import modules from src/data\n",
    "from data.cleaning import clean_data, save_clean_data_to_csv"
   ]
  },
  {
   "cell_type": "code",
   "execution_count": null,
   "metadata": {},
   "outputs": [],
   "source": [
    "# Combine external data into one structured format\n",
    "raw_data_paths = [\n",
    "    (r\"d:\\GitHub\\calcifer\\data\\external\\FLIR_groups1and2.csv\", \"flir\"),\n",
    "    (r\"d:\\GitHub\\calcifer\\data\\external\\ICI_groups1and2.csv\", \"ici\")\n",
    "]\n",
    "combined_data_path = r\"d:\\GitHub\\calcifer\\data\\interim\\cleaned_external_data.csv\"\n",
    "\n",
    "data = pd.concat([clean_data(pd.read_csv(path)) for path, _ in raw_data_paths], ignore_index=True)\n",
    "\n",
    "# Save cleaned data\n",
    "save_clean_data_to_csv(data, combined_data_path)"
   ]
  },
  {
   "cell_type": "code",
   "execution_count": 6,
   "metadata": {},
   "outputs": [
    {
     "data": {
      "application/vnd.microsoft.datawrangler.viewer.v0+json": {
       "columns": [
        {
         "name": "index",
         "rawType": "int64",
         "type": "integer"
        },
        {
         "name": "Tg",
         "rawType": "float64",
         "type": "float"
        },
        {
         "name": "Ta",
         "rawType": "object",
         "type": "string"
        },
        {
         "name": "Tc",
         "rawType": "object",
         "type": "string"
        }
       ],
       "conversionMethod": "pd.DataFrame",
       "ref": "5cb3da3d-90f9-47a9-bc7a-3d4635bce248",
       "rows": [
        [
         "0",
         "32.79",
         "24",
         "36.59"
        ],
        [
         "1",
         "33.19",
         "24",
         "37.19"
        ],
        [
         "2",
         "33.957499999999996",
         "24",
         "37.34"
        ],
        [
         "3",
         "33.372499999999995",
         "24",
         "37.09"
        ],
        [
         "4",
         "33.775",
         "24",
         "37.04"
        ],
        [
         "5",
         "33.4575",
         "24",
         "36.99"
        ],
        [
         "6",
         "33.235",
         "24",
         "36.59"
        ],
        [
         "7",
         "32.8725",
         "25",
         "36.49"
        ],
        [
         "8",
         "34.2125",
         "25",
         "36.59"
        ],
        [
         "9",
         "34.1475",
         "26",
         "36.89"
        ],
        [
         "10",
         "33.355",
         "22.8",
         "36.54"
        ],
        [
         "11",
         "32.845",
         "23",
         "36.74"
        ],
        [
         "12",
         "33.6425",
         "23",
         "36.54"
        ],
        [
         "13",
         "33.8375",
         "23",
         "37.19"
        ],
        [
         "14",
         "34.6575",
         "23.5",
         "37.79"
        ],
        [
         "15",
         "33.48",
         "23.7",
         "36.49"
        ],
        [
         "16",
         "32.905",
         "24",
         "37.09"
        ],
        [
         "17",
         "33.833333333333336",
         "22.5",
         "37.19"
        ],
        [
         "18",
         "33.035",
         "23.2",
         "36.89"
        ],
        [
         "19",
         "33.525000000000006",
         "22.6",
         "36.54"
        ],
        [
         "20",
         "33.47666666666667",
         "22.9",
         "37.04"
        ],
        [
         "21",
         "34.2575",
         "23",
         "37.04"
        ],
        [
         "22",
         "33.230000000000004",
         "23.1",
         "36.14"
        ],
        [
         "23",
         "33.155",
         "23.1",
         "36.99"
        ],
        [
         "24",
         "33.96",
         "22.9",
         "37.09"
        ],
        [
         "25",
         "32.1275",
         "22.9",
         "36.59"
        ],
        [
         "26",
         "33.82",
         "23.2",
         "36.89"
        ],
        [
         "27",
         "33.675",
         "22.5",
         "36.64"
        ],
        [
         "28",
         "33.6525",
         "23.4",
         "37.14"
        ],
        [
         "29",
         "33.192499999999995",
         "23.2",
         "36.59"
        ],
        [
         "30",
         "34.1275",
         "23.1",
         "37.39"
        ],
        [
         "31",
         "33.43749999999999",
         "22.8",
         "36.49"
        ],
        [
         "32",
         "33.1525",
         "22.8",
         "37.19"
        ],
        [
         "33",
         "33.212500000000006",
         "23",
         "37.39"
        ],
        [
         "34",
         "32.754999999999995",
         "23.2",
         "36.74"
        ],
        [
         "35",
         "33.045",
         "23.2",
         "37.04"
        ],
        [
         "36",
         "33.8",
         "23.2",
         "36.59"
        ],
        [
         "37",
         "33.955",
         "23.2",
         "37.29"
        ],
        [
         "38",
         "33.677499999999995",
         "23.4",
         "37.29"
        ],
        [
         "39",
         "33.395",
         "22.9",
         "36.69"
        ],
        [
         "40",
         "33.8",
         "23.1",
         "37.04"
        ],
        [
         "41",
         "33.855",
         "23.2",
         "36.79"
        ],
        [
         "42",
         "33.99250000000001",
         "23.4",
         "37.04"
        ],
        [
         "43",
         "33.34",
         "23",
         "35.99"
        ],
        [
         "44",
         "33.6425",
         "23.4",
         "37.09"
        ],
        [
         "45",
         "33.42",
         "23.4",
         "36.74"
        ],
        [
         "46",
         "33.879999999999995",
         "23.4",
         "36.84"
        ],
        [
         "47",
         "33.46",
         "23.5",
         "37.09"
        ],
        [
         "48",
         "34.0275",
         "23.1",
         "37.34"
        ],
        [
         "49",
         "33.8",
         "23.2",
         "36.94"
        ]
       ],
       "shape": {
        "columns": 3,
        "rows": 2029
       }
      },
      "text/html": [
       "<div>\n",
       "<style scoped>\n",
       "    .dataframe tbody tr th:only-of-type {\n",
       "        vertical-align: middle;\n",
       "    }\n",
       "\n",
       "    .dataframe tbody tr th {\n",
       "        vertical-align: top;\n",
       "    }\n",
       "\n",
       "    .dataframe thead th {\n",
       "        text-align: right;\n",
       "    }\n",
       "</style>\n",
       "<table border=\"1\" class=\"dataframe\">\n",
       "  <thead>\n",
       "    <tr style=\"text-align: right;\">\n",
       "      <th>1</th>\n",
       "      <th>Tg</th>\n",
       "      <th>Ta</th>\n",
       "      <th>Tc</th>\n",
       "    </tr>\n",
       "  </thead>\n",
       "  <tbody>\n",
       "    <tr>\n",
       "      <th>0</th>\n",
       "      <td>32.790000</td>\n",
       "      <td>24</td>\n",
       "      <td>36.59</td>\n",
       "    </tr>\n",
       "    <tr>\n",
       "      <th>1</th>\n",
       "      <td>33.190000</td>\n",
       "      <td>24</td>\n",
       "      <td>37.19</td>\n",
       "    </tr>\n",
       "    <tr>\n",
       "      <th>2</th>\n",
       "      <td>33.957500</td>\n",
       "      <td>24</td>\n",
       "      <td>37.34</td>\n",
       "    </tr>\n",
       "    <tr>\n",
       "      <th>3</th>\n",
       "      <td>33.372500</td>\n",
       "      <td>24</td>\n",
       "      <td>37.09</td>\n",
       "    </tr>\n",
       "    <tr>\n",
       "      <th>4</th>\n",
       "      <td>33.775000</td>\n",
       "      <td>24</td>\n",
       "      <td>37.04</td>\n",
       "    </tr>\n",
       "    <tr>\n",
       "      <th>...</th>\n",
       "      <td>...</td>\n",
       "      <td>...</td>\n",
       "      <td>...</td>\n",
       "    </tr>\n",
       "    <tr>\n",
       "      <th>2024</th>\n",
       "      <td>35.460000</td>\n",
       "      <td>25.7</td>\n",
       "      <td>36.99</td>\n",
       "    </tr>\n",
       "    <tr>\n",
       "      <th>2025</th>\n",
       "      <td>35.375000</td>\n",
       "      <td>25.7</td>\n",
       "      <td>37.19</td>\n",
       "    </tr>\n",
       "    <tr>\n",
       "      <th>2026</th>\n",
       "      <td>35.966667</td>\n",
       "      <td>28</td>\n",
       "      <td>37.59</td>\n",
       "    </tr>\n",
       "    <tr>\n",
       "      <th>2027</th>\n",
       "      <td>35.150000</td>\n",
       "      <td>25</td>\n",
       "      <td>37.29</td>\n",
       "    </tr>\n",
       "    <tr>\n",
       "      <th>2028</th>\n",
       "      <td>34.440000</td>\n",
       "      <td>23.8</td>\n",
       "      <td>37.19</td>\n",
       "    </tr>\n",
       "  </tbody>\n",
       "</table>\n",
       "<p>2029 rows × 3 columns</p>\n",
       "</div>"
      ],
      "text/plain": [
       "1            Tg    Ta     Tc\n",
       "0     32.790000    24  36.59\n",
       "1     33.190000    24  37.19\n",
       "2     33.957500    24  37.34\n",
       "3     33.372500    24  37.09\n",
       "4     33.775000    24  37.04\n",
       "...         ...   ...    ...\n",
       "2024  35.460000  25.7  36.99\n",
       "2025  35.375000  25.7  37.19\n",
       "2026  35.966667    28  37.59\n",
       "2027  35.150000    25  37.29\n",
       "2028  34.440000  23.8  37.19\n",
       "\n",
       "[2029 rows x 3 columns]"
      ]
     },
     "execution_count": 6,
     "metadata": {},
     "output_type": "execute_result"
    }
   ],
   "source": [
    "# Display the cleaned data\n",
    "data"
   ]
  }
 ],
 "metadata": {
  "colab": {
   "provenance": []
  },
  "kernelspec": {
   "display_name": "Python 3",
   "language": "python",
   "name": "python3"
  },
  "language_info": {
   "codemirror_mode": {
    "name": "ipython",
    "version": 3
   },
   "file_extension": ".py",
   "mimetype": "text/x-python",
   "name": "python",
   "nbconvert_exporter": "python",
   "pygments_lexer": "ipython3",
   "version": "3.13.3"
  }
 },
 "nbformat": 4,
 "nbformat_minor": 0
}
