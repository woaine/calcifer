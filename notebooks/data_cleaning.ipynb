{
 "cells": [
  {
   "cell_type": "code",
   "execution_count": null,
   "metadata": {},
   "outputs": [],
   "source": [
    "import pandas as pd\n",
    "import os\n",
    "import sys\n",
    "from dotenv import load_dotenv\n",
    "\n",
    "# Load environment variables from .env\n",
    "load_dotenv()\n",
    "\n",
    "# Add src/ to sys.path\n",
    "notebook_dir = os.path.dirname(os.path.realpath(\"__file__\"))\n",
    "src_path = os.path.abspath(os.path.join(notebook_dir, \"..\", \"src\"))\n",
    "if src_path not in sys.path:\n",
    "    sys.path.insert(0, src_path)\n",
    "\n",
    "print(\"sys.path:\", sys.path)"
   ]
  },
  {
   "cell_type": "markdown",
   "metadata": {},
   "source": [
    "# Temperature Dataset Cleaning"
   ]
  },
  {
   "cell_type": "code",
   "execution_count": null,
   "metadata": {},
   "outputs": [],
   "source": [
    "# Import modules from src/data\n",
    "from data import clean_data\n",
    "\n",
    "# Combine external data into one structured format\n",
    "raw_data_paths = [\n",
    "    (r\"d:\\GitHub\\calcifer\\data\\external\\FLIR_groups1and2.csv\", \"flir\"),\n",
    "    (r\"d:\\GitHub\\calcifer\\data\\external\\ICI_groups1and2.csv\", \"ici\")\n",
    "]\n",
    "combined_data_path = r\"d:\\GitHub\\calcifer\\data\\interim\\cleaned_external_data.csv\"\n",
    "\n",
    "data = pd.concat([clean_data(pd.read_csv(path)) for path, data_group in raw_data_paths], ignore_index=True)"
   ]
  },
  {
   "cell_type": "code",
   "execution_count": 10,
   "metadata": {},
   "outputs": [
    {
     "data": {
      "application/vnd.microsoft.datawrangler.viewer.v0+json": {
       "columns": [
        {
         "name": "index",
         "rawType": "int64",
         "type": "integer"
        },
        {
         "name": "Tg",
         "rawType": "float64",
         "type": "float"
        },
        {
         "name": "Ta",
         "rawType": "float64",
         "type": "float"
        },
        {
         "name": "Tc",
         "rawType": "float64",
         "type": "float"
        }
       ],
       "conversionMethod": "pd.DataFrame",
       "ref": "3db07af3-4e40-4327-9d88-bdcc9fdbf4d6",
       "rows": [
        [
         "0",
         "33.4925",
         "24.0",
         "36.59"
        ],
        [
         "1",
         "33.97",
         "24.0",
         "37.19"
        ],
        [
         "2",
         "34.82",
         "24.0",
         "37.34"
        ],
        [
         "3",
         "34.302499999999995",
         "24.0",
         "37.09"
        ],
        [
         "4",
         "34.669999999999995",
         "24.0",
         "37.04"
        ],
        [
         "5",
         "34.285",
         "24.0",
         "36.99"
        ],
        [
         "6",
         "33.677499999999995",
         "24.0",
         "36.59"
        ],
        [
         "7",
         "33.46",
         "25.0",
         "36.49"
        ],
        [
         "8",
         "35.19",
         "25.0",
         "36.59"
        ],
        [
         "9",
         "35.215",
         "26.0",
         "36.89"
        ],
        [
         "10",
         "33.730000000000004",
         "22.8",
         "36.54"
        ],
        [
         "11",
         "33.34",
         "23.0",
         "36.74"
        ],
        [
         "12",
         "34.055",
         "23.0",
         "36.54"
        ],
        [
         "13",
         "34.269999999999996",
         "23.0",
         "37.19"
        ],
        [
         "14",
         "34.8825",
         "23.5",
         "37.79"
        ],
        [
         "15",
         "34.230000000000004",
         "23.7",
         "36.49"
        ],
        [
         "16",
         "33.7725",
         "24.0",
         "37.09"
        ],
        [
         "17",
         "34.31666666666667",
         "22.5",
         "37.19"
        ],
        [
         "18",
         "33.92999999999999",
         "23.2",
         "36.89"
        ],
        [
         "19",
         "34.0925",
         "22.6",
         "36.54"
        ],
        [
         "20",
         "34.39",
         "22.9",
         "37.04"
        ],
        [
         "21",
         "35.2025",
         "23.0",
         "37.04"
        ],
        [
         "22",
         "34.17",
         "23.1",
         "36.14"
        ],
        [
         "23",
         "34.0425",
         "23.1",
         "36.99"
        ],
        [
         "24",
         "34.7975",
         "22.9",
         "37.09"
        ],
        [
         "25",
         "33.05",
         "22.9",
         "36.59"
        ],
        [
         "26",
         "34.66",
         "23.2",
         "36.89"
        ],
        [
         "27",
         "33.935",
         "22.5",
         "36.64"
        ],
        [
         "28",
         "34.4675",
         "23.4",
         "37.14"
        ],
        [
         "29",
         "34.042500000000004",
         "23.2",
         "36.59"
        ],
        [
         "30",
         "34.9975",
         "23.1",
         "37.39"
        ],
        [
         "31",
         "34.1125",
         "22.8",
         "36.49"
        ],
        [
         "32",
         "33.83",
         "22.8",
         "37.19"
        ],
        [
         "33",
         "34.1",
         "23.0",
         "37.39"
        ],
        [
         "34",
         "33.557500000000005",
         "23.2",
         "36.74"
        ],
        [
         "35",
         "33.897499999999994",
         "23.2",
         "37.04"
        ],
        [
         "36",
         "34.53",
         "23.2",
         "36.59"
        ],
        [
         "37",
         "34.7025",
         "23.2",
         "37.29"
        ],
        [
         "38",
         "34.475",
         "23.4",
         "37.29"
        ],
        [
         "39",
         "33.9825",
         "22.9",
         "36.69"
        ],
        [
         "40",
         "34.47",
         "23.1",
         "37.04"
        ],
        [
         "41",
         "34.5725",
         "23.2",
         "36.79"
        ],
        [
         "42",
         "34.7725",
         "23.4",
         "37.04"
        ],
        [
         "43",
         "33.5",
         "23.0",
         "35.99"
        ],
        [
         "44",
         "34.2",
         "23.4",
         "37.09"
        ],
        [
         "45",
         "34.0975",
         "23.4",
         "36.74"
        ],
        [
         "46",
         "34.6125",
         "23.4",
         "36.84"
        ],
        [
         "47",
         "34.2275",
         "23.5",
         "37.09"
        ],
        [
         "48",
         "34.667500000000004",
         "23.1",
         "37.34"
        ],
        [
         "49",
         "34.435",
         "23.2",
         "36.94"
        ]
       ],
       "shape": {
        "columns": 3,
        "rows": 2029
       }
      },
      "text/html": [
       "<div>\n",
       "<style scoped>\n",
       "    .dataframe tbody tr th:only-of-type {\n",
       "        vertical-align: middle;\n",
       "    }\n",
       "\n",
       "    .dataframe tbody tr th {\n",
       "        vertical-align: top;\n",
       "    }\n",
       "\n",
       "    .dataframe thead th {\n",
       "        text-align: right;\n",
       "    }\n",
       "</style>\n",
       "<table border=\"1\" class=\"dataframe\">\n",
       "  <thead>\n",
       "    <tr style=\"text-align: right;\">\n",
       "      <th></th>\n",
       "      <th>Tg</th>\n",
       "      <th>Ta</th>\n",
       "      <th>Tc</th>\n",
       "    </tr>\n",
       "  </thead>\n",
       "  <tbody>\n",
       "    <tr>\n",
       "      <th>0</th>\n",
       "      <td>33.492500</td>\n",
       "      <td>24.0</td>\n",
       "      <td>36.59</td>\n",
       "    </tr>\n",
       "    <tr>\n",
       "      <th>1</th>\n",
       "      <td>33.970000</td>\n",
       "      <td>24.0</td>\n",
       "      <td>37.19</td>\n",
       "    </tr>\n",
       "    <tr>\n",
       "      <th>2</th>\n",
       "      <td>34.820000</td>\n",
       "      <td>24.0</td>\n",
       "      <td>37.34</td>\n",
       "    </tr>\n",
       "    <tr>\n",
       "      <th>3</th>\n",
       "      <td>34.302500</td>\n",
       "      <td>24.0</td>\n",
       "      <td>37.09</td>\n",
       "    </tr>\n",
       "    <tr>\n",
       "      <th>4</th>\n",
       "      <td>34.670000</td>\n",
       "      <td>24.0</td>\n",
       "      <td>37.04</td>\n",
       "    </tr>\n",
       "    <tr>\n",
       "      <th>...</th>\n",
       "      <td>...</td>\n",
       "      <td>...</td>\n",
       "      <td>...</td>\n",
       "    </tr>\n",
       "    <tr>\n",
       "      <th>2024</th>\n",
       "      <td>34.946667</td>\n",
       "      <td>25.7</td>\n",
       "      <td>36.99</td>\n",
       "    </tr>\n",
       "    <tr>\n",
       "      <th>2025</th>\n",
       "      <td>34.947500</td>\n",
       "      <td>25.7</td>\n",
       "      <td>37.19</td>\n",
       "    </tr>\n",
       "    <tr>\n",
       "      <th>2026</th>\n",
       "      <td>35.646667</td>\n",
       "      <td>28.0</td>\n",
       "      <td>37.59</td>\n",
       "    </tr>\n",
       "    <tr>\n",
       "      <th>2027</th>\n",
       "      <td>34.660000</td>\n",
       "      <td>25.0</td>\n",
       "      <td>37.29</td>\n",
       "    </tr>\n",
       "    <tr>\n",
       "      <th>2028</th>\n",
       "      <td>34.090000</td>\n",
       "      <td>23.8</td>\n",
       "      <td>37.19</td>\n",
       "    </tr>\n",
       "  </tbody>\n",
       "</table>\n",
       "<p>2029 rows × 3 columns</p>\n",
       "</div>"
      ],
      "text/plain": [
       "0            Tg    Ta     Tc\n",
       "0     33.492500  24.0  36.59\n",
       "1     33.970000  24.0  37.19\n",
       "2     34.820000  24.0  37.34\n",
       "3     34.302500  24.0  37.09\n",
       "4     34.670000  24.0  37.04\n",
       "...         ...   ...    ...\n",
       "2024  34.946667  25.7  36.99\n",
       "2025  34.947500  25.7  37.19\n",
       "2026  35.646667  28.0  37.59\n",
       "2027  34.660000  25.0  37.29\n",
       "2028  34.090000  23.8  37.19\n",
       "\n",
       "[2029 rows x 3 columns]"
      ]
     },
     "execution_count": 10,
     "metadata": {},
     "output_type": "execute_result"
    }
   ],
   "source": [
    "# Display the cleaned data\n",
    "data"
   ]
  },
  {
   "cell_type": "code",
   "execution_count": null,
   "metadata": {},
   "outputs": [],
   "source": [
    "# Import modules from src/data\n",
    "from data import save_clean_data_to_csv\n",
    "\n",
    "# Save cleaned data\n",
    "save_clean_data_to_csv(data, combined_data_path)"
   ]
  },
  {
   "cell_type": "markdown",
   "metadata": {},
   "source": [
    "# Facial Dataset Cleaning"
   ]
  },
  {
   "cell_type": "code",
   "execution_count": null,
   "metadata": {},
   "outputs": [],
   "source": [
    "from data import XMLtoTXT\n",
    "\n",
    "XMLtoTXT()"
   ]
  }
 ],
 "metadata": {
  "colab": {
   "provenance": []
  },
  "kernelspec": {
   "display_name": "Python 3",
   "language": "python",
   "name": "python3"
  },
  "language_info": {
   "codemirror_mode": {
    "name": "ipython",
    "version": 3
   },
   "file_extension": ".py",
   "mimetype": "text/x-python",
   "name": "python",
   "nbconvert_exporter": "python",
   "pygments_lexer": "ipython3",
   "version": "3.13.3"
  }
 },
 "nbformat": 4,
 "nbformat_minor": 0
}
