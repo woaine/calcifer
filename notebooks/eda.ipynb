{
 "cells": [
  {
   "cell_type": "code",
   "execution_count": 8,
   "id": "b0d0bda0",
   "metadata": {},
   "outputs": [],
   "source": [
    "import pandas as pd\n",
    "import numpy as np\n",
    "import matplotlib.pyplot as plt\n",
    "import seaborn as sns\n",
    "\n",
    "# Set the style for the plots\n",
    "sns.set_palette(\"viridis\")\n",
    "plt.rcParams[\"figure.figsize\"] = (12, 8)\n",
    "plt.rcParams['axes.grid'] = True"
   ]
  },
  {
   "cell_type": "code",
   "execution_count": 9,
   "id": "8d12a60d",
   "metadata": {},
   "outputs": [
    {
     "name": "stdout",
     "output_type": "stream",
     "text": [
      "external data loaded successfully with 2029 rows and 3 columns.\n"
     ]
    }
   ],
   "source": [
    "# Load the external dataset\n",
    "def load_data(filepath, name):\n",
    "    df = pd.read_csv(filepath)\n",
    "    print(f\"{name} data loaded successfully with {df.shape[0]} rows and {df.shape[1]} columns.\")\n",
    "    return df\n",
    "\n",
    "external = load_data(r\"d:\\GitHub\\calcifer\\data\\interim\\cleaned_external_data.csv\", \"external\")"
   ]
  },
  {
   "cell_type": "code",
   "execution_count": 10,
   "id": "241377d9",
   "metadata": {},
   "outputs": [],
   "source": [
    "# Provide a structured overview to detect potential anomalies that could impact further analysis\n",
    "def dataframe_summary(df: pd.DataFrame) -> pd.DataFrame:\n",
    "    summary = pd.DataFrame({\n",
    "        \"Data Type\": df.dtypes,\n",
    "        \"Non-Null Count\": df.notnull().sum(),\n",
    "        \"Missing Values\": df.isnull().sum(),\n",
    "        \"Distinct Values\": df.nunique(),\n",
    "        \"Zeros Count\": (df == 0).sum(),\n",
    "        \"Negative Values\": (df < 0).sum(),\n",
    "        \"Infinite Values\": np.isinf(df).sum()\n",
    "    })\n",
    "\n",
    "    print(summary)"
   ]
  },
  {
   "cell_type": "code",
   "execution_count": 11,
   "id": "2b20c637",
   "metadata": {},
   "outputs": [
    {
     "data": {
      "application/vnd.microsoft.datawrangler.viewer.v0+json": {
       "columns": [
        {
         "name": "index",
         "rawType": "object",
         "type": "string"
        },
        {
         "name": "Tg",
         "rawType": "float64",
         "type": "float"
        },
        {
         "name": "Ta",
         "rawType": "float64",
         "type": "float"
        },
        {
         "name": "Tc",
         "rawType": "float64",
         "type": "float"
        }
       ],
       "conversionMethod": "pd.DataFrame",
       "ref": "0fa853c7-1e19-461e-95e6-4e20ba7cd367",
       "rows": [
        [
         "count",
         "2029.0",
         "2029.0",
         "2029.0"
        ],
        [
         "mean",
         "34.36837933300476",
         "24.107540660423858",
         "37.02942828979793"
        ],
        [
         "std",
         "0.7385544604242174",
         "1.3241600046433952",
         "0.5102044185676169"
        ],
        [
         "min",
         "30.225",
         "20.2",
         "35.54"
        ],
        [
         "25%",
         "33.955000000000005",
         "23.4",
         "36.79"
        ],
        [
         "50%",
         "34.3875",
         "24.0",
         "36.94"
        ],
        [
         "75%",
         "34.7875",
         "24.7",
         "37.14"
        ],
        [
         "max",
         "37.693333333333335",
         "29.1",
         "40.34"
        ]
       ],
       "shape": {
        "columns": 3,
        "rows": 8
       }
      },
      "text/html": [
       "<div>\n",
       "<style scoped>\n",
       "    .dataframe tbody tr th:only-of-type {\n",
       "        vertical-align: middle;\n",
       "    }\n",
       "\n",
       "    .dataframe tbody tr th {\n",
       "        vertical-align: top;\n",
       "    }\n",
       "\n",
       "    .dataframe thead th {\n",
       "        text-align: right;\n",
       "    }\n",
       "</style>\n",
       "<table border=\"1\" class=\"dataframe\">\n",
       "  <thead>\n",
       "    <tr style=\"text-align: right;\">\n",
       "      <th></th>\n",
       "      <th>Tg</th>\n",
       "      <th>Ta</th>\n",
       "      <th>Tc</th>\n",
       "    </tr>\n",
       "  </thead>\n",
       "  <tbody>\n",
       "    <tr>\n",
       "      <th>count</th>\n",
       "      <td>2029.000000</td>\n",
       "      <td>2029.000000</td>\n",
       "      <td>2029.000000</td>\n",
       "    </tr>\n",
       "    <tr>\n",
       "      <th>mean</th>\n",
       "      <td>34.368379</td>\n",
       "      <td>24.107541</td>\n",
       "      <td>37.029428</td>\n",
       "    </tr>\n",
       "    <tr>\n",
       "      <th>std</th>\n",
       "      <td>0.738554</td>\n",
       "      <td>1.324160</td>\n",
       "      <td>0.510204</td>\n",
       "    </tr>\n",
       "    <tr>\n",
       "      <th>min</th>\n",
       "      <td>30.225000</td>\n",
       "      <td>20.200000</td>\n",
       "      <td>35.540000</td>\n",
       "    </tr>\n",
       "    <tr>\n",
       "      <th>25%</th>\n",
       "      <td>33.955000</td>\n",
       "      <td>23.400000</td>\n",
       "      <td>36.790000</td>\n",
       "    </tr>\n",
       "    <tr>\n",
       "      <th>50%</th>\n",
       "      <td>34.387500</td>\n",
       "      <td>24.000000</td>\n",
       "      <td>36.940000</td>\n",
       "    </tr>\n",
       "    <tr>\n",
       "      <th>75%</th>\n",
       "      <td>34.787500</td>\n",
       "      <td>24.700000</td>\n",
       "      <td>37.140000</td>\n",
       "    </tr>\n",
       "    <tr>\n",
       "      <th>max</th>\n",
       "      <td>37.693333</td>\n",
       "      <td>29.100000</td>\n",
       "      <td>40.340000</td>\n",
       "    </tr>\n",
       "  </tbody>\n",
       "</table>\n",
       "</div>"
      ],
      "text/plain": [
       "                Tg           Ta           Tc\n",
       "count  2029.000000  2029.000000  2029.000000\n",
       "mean     34.368379    24.107541    37.029428\n",
       "std       0.738554     1.324160     0.510204\n",
       "min      30.225000    20.200000    35.540000\n",
       "25%      33.955000    23.400000    36.790000\n",
       "50%      34.387500    24.000000    36.940000\n",
       "75%      34.787500    24.700000    37.140000\n",
       "max      37.693333    29.100000    40.340000"
      ]
     },
     "execution_count": 11,
     "metadata": {},
     "output_type": "execute_result"
    }
   ],
   "source": [
    "# Get the descriptive statistics\n",
    "external.describe()"
   ]
  },
  {
   "cell_type": "code",
   "execution_count": 12,
   "id": "1f8b8eaf",
   "metadata": {},
   "outputs": [
    {
     "name": "stdout",
     "output_type": "stream",
     "text": [
      "   Data Type  Non-Null Count  Missing Values  Distinct Values  Zeros Count  \\\n",
      "Tg   float64            2029               0             1215            0   \n",
      "Ta   float64            2029               0               78            0   \n",
      "Tc   float64            2029               0               70            0   \n",
      "\n",
      "    Negative Values  Infinite Values  \n",
      "Tg                0                0  \n",
      "Ta                0                0  \n",
      "Tc                0                0  \n"
     ]
    }
   ],
   "source": [
    "# Get the detailed summary\n",
    "dataframe_summary(external)"
   ]
  }
 ],
 "metadata": {
  "kernelspec": {
   "display_name": "Python 3",
   "language": "python",
   "name": "python3"
  },
  "language_info": {
   "codemirror_mode": {
    "name": "ipython",
    "version": 3
   },
   "file_extension": ".py",
   "mimetype": "text/x-python",
   "name": "python",
   "nbconvert_exporter": "python",
   "pygments_lexer": "ipython3",
   "version": "3.13.3"
  }
 },
 "nbformat": 4,
 "nbformat_minor": 5
}
