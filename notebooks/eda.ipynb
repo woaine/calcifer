{
 "cells": [
  {
   "cell_type": "code",
   "execution_count": 134,
   "id": "b0d0bda0",
   "metadata": {},
   "outputs": [],
   "source": [
    "import pandas as pd\n",
    "import numpy as np\n",
    "import matplotlib.pyplot as plt\n",
    "import seaborn as sns\n",
    "import os\n",
    "\n",
    "# Set the style for the plots\n",
    "sns.set_palette(\"viridis\")\n",
    "plt.rcParams[\"figure.figsize\"] = (12, 8)\n",
    "plt.rcParams['axes.grid'] = True"
   ]
  },
  {
   "cell_type": "code",
   "execution_count": 135,
   "id": "8d12a60d",
   "metadata": {},
   "outputs": [
    {
     "name": "stdout",
     "output_type": "stream",
     "text": [
      "external data loaded successfully with 2029 rows and 3 columns.\n"
     ]
    }
   ],
   "source": [
    "# Load the external dataset\n",
    "def load_data(filepath, name):\n",
    "    df = pd.read_csv(filepath)\n",
    "    print(f\"{name} data loaded successfully with {df.shape[0]} rows and {df.shape[1]} columns.\")\n",
    "    return df\n",
    "\n",
    "external = load_data(r\"d:\\GitHub\\calcifer\\data\\interim\\cleaned_external_data.csv\", \"external\")"
   ]
  },
  {
   "cell_type": "code",
   "execution_count": 136,
   "id": "241377d9",
   "metadata": {},
   "outputs": [],
   "source": [
    "# Provide a structured overview to detect potential anomalies that could impact further analysis\n",
    "def dataframe_summary(df: pd.DataFrame) -> pd.DataFrame:\n",
    "    summary = pd.DataFrame({\n",
    "        \"Data Type\": df.dtypes,\n",
    "        \"Non-Null Count\": df.notnull().sum(),\n",
    "        \"Missing Values\": df.isnull().sum(),\n",
    "        \"Distinct Values\": df.nunique(),\n",
    "        \"Zeros Count\": (df == 0).sum(),\n",
    "        \"Negative Values\": (df < 0).sum(),\n",
    "        \"Infinite Values\": np.isinf(df).sum()\n",
    "    })\n",
    "\n",
    "    print(summary)"
   ]
  },
  {
   "cell_type": "code",
   "execution_count": 137,
   "id": "2b20c637",
   "metadata": {},
   "outputs": [
    {
     "data": {
      "application/vnd.microsoft.datawrangler.viewer.v0+json": {
       "columns": [
        {
         "name": "index",
         "rawType": "object",
         "type": "string"
        },
        {
         "name": "Tg",
         "rawType": "float64",
         "type": "float"
        },
        {
         "name": "Ta",
         "rawType": "float64",
         "type": "float"
        },
        {
         "name": "Tc",
         "rawType": "float64",
         "type": "float"
        }
       ],
       "conversionMethod": "pd.DataFrame",
       "ref": "10581663-dbab-408b-bf7e-82d231c8d410",
       "rows": [
        [
         "count",
         "2029.0",
         "2029.0",
         "2029.0"
        ],
        [
         "mean",
         "34.36837933300476",
         "24.107540660423858",
         "37.02942828979793"
        ],
        [
         "std",
         "0.7385544604242174",
         "1.3241600046433952",
         "0.5102044185676169"
        ],
        [
         "min",
         "30.225",
         "20.2",
         "35.54"
        ],
        [
         "25%",
         "33.955000000000005",
         "23.4",
         "36.79"
        ],
        [
         "50%",
         "34.3875",
         "24.0",
         "36.94"
        ],
        [
         "75%",
         "34.7875",
         "24.7",
         "37.14"
        ],
        [
         "max",
         "37.693333333333335",
         "29.1",
         "40.34"
        ]
       ],
       "shape": {
        "columns": 3,
        "rows": 8
       }
      },
      "text/html": [
       "<div>\n",
       "<style scoped>\n",
       "    .dataframe tbody tr th:only-of-type {\n",
       "        vertical-align: middle;\n",
       "    }\n",
       "\n",
       "    .dataframe tbody tr th {\n",
       "        vertical-align: top;\n",
       "    }\n",
       "\n",
       "    .dataframe thead th {\n",
       "        text-align: right;\n",
       "    }\n",
       "</style>\n",
       "<table border=\"1\" class=\"dataframe\">\n",
       "  <thead>\n",
       "    <tr style=\"text-align: right;\">\n",
       "      <th></th>\n",
       "      <th>Tg</th>\n",
       "      <th>Ta</th>\n",
       "      <th>Tc</th>\n",
       "    </tr>\n",
       "  </thead>\n",
       "  <tbody>\n",
       "    <tr>\n",
       "      <th>count</th>\n",
       "      <td>2029.000000</td>\n",
       "      <td>2029.000000</td>\n",
       "      <td>2029.000000</td>\n",
       "    </tr>\n",
       "    <tr>\n",
       "      <th>mean</th>\n",
       "      <td>34.368379</td>\n",
       "      <td>24.107541</td>\n",
       "      <td>37.029428</td>\n",
       "    </tr>\n",
       "    <tr>\n",
       "      <th>std</th>\n",
       "      <td>0.738554</td>\n",
       "      <td>1.324160</td>\n",
       "      <td>0.510204</td>\n",
       "    </tr>\n",
       "    <tr>\n",
       "      <th>min</th>\n",
       "      <td>30.225000</td>\n",
       "      <td>20.200000</td>\n",
       "      <td>35.540000</td>\n",
       "    </tr>\n",
       "    <tr>\n",
       "      <th>25%</th>\n",
       "      <td>33.955000</td>\n",
       "      <td>23.400000</td>\n",
       "      <td>36.790000</td>\n",
       "    </tr>\n",
       "    <tr>\n",
       "      <th>50%</th>\n",
       "      <td>34.387500</td>\n",
       "      <td>24.000000</td>\n",
       "      <td>36.940000</td>\n",
       "    </tr>\n",
       "    <tr>\n",
       "      <th>75%</th>\n",
       "      <td>34.787500</td>\n",
       "      <td>24.700000</td>\n",
       "      <td>37.140000</td>\n",
       "    </tr>\n",
       "    <tr>\n",
       "      <th>max</th>\n",
       "      <td>37.693333</td>\n",
       "      <td>29.100000</td>\n",
       "      <td>40.340000</td>\n",
       "    </tr>\n",
       "  </tbody>\n",
       "</table>\n",
       "</div>"
      ],
      "text/plain": [
       "                Tg           Ta           Tc\n",
       "count  2029.000000  2029.000000  2029.000000\n",
       "mean     34.368379    24.107541    37.029428\n",
       "std       0.738554     1.324160     0.510204\n",
       "min      30.225000    20.200000    35.540000\n",
       "25%      33.955000    23.400000    36.790000\n",
       "50%      34.387500    24.000000    36.940000\n",
       "75%      34.787500    24.700000    37.140000\n",
       "max      37.693333    29.100000    40.340000"
      ]
     },
     "execution_count": 137,
     "metadata": {},
     "output_type": "execute_result"
    }
   ],
   "source": [
    "# Get the descriptive statistics\n",
    "external.describe()"
   ]
  },
  {
   "cell_type": "code",
   "execution_count": 138,
   "id": "1f8b8eaf",
   "metadata": {},
   "outputs": [
    {
     "name": "stdout",
     "output_type": "stream",
     "text": [
      "   Data Type  Non-Null Count  Missing Values  Distinct Values  Zeros Count  \\\n",
      "Tg   float64            2029               0             1215            0   \n",
      "Ta   float64            2029               0               78            0   \n",
      "Tc   float64            2029               0               70            0   \n",
      "\n",
      "    Negative Values  Infinite Values  \n",
      "Tg                0                0  \n",
      "Ta                0                0  \n",
      "Tc                0                0  \n"
     ]
    }
   ],
   "source": [
    "# Get the detailed summary\n",
    "dataframe_summary(external)"
   ]
  },
  {
   "cell_type": "code",
   "execution_count": 139,
   "id": "e3720e86",
   "metadata": {},
   "outputs": [],
   "source": [
    "# Segment Tg based on temperature ranges\n",
    "def segment_tg(df):\n",
    "    # Conditions for segmentation:\n",
    "    #   - 'lower': Tg between 31 (inclusive) and 34 (exclusive)\n",
    "    #   - 'mid': Tg between 34 (inclusive) and 36 (exclusive)\n",
    "    #   - 'higher': Tg between 36 (inclusive) and 38 (exclusive)\n",
    "    conditions = [\n",
    "        (df['Tg'] >= 31) & (df['Tg'] < 34),\n",
    "        (df['Tg'] >= 34) & (df['Tg'] < 36),\n",
    "        (df['Tg'] >= 36) & (df['Tg'] < 38)\n",
    "    ]\n",
    "    choices = ['lower', 'mid', 'higher']\n",
    "    df['Tg_segment'] = np.select(conditions, choices, default='out_of_range')\n",
    "    return df\n",
    "\n",
    "# Segment Tg\n",
    "external_segmented = segment_tg(external)\n",
    "\n",
    "# Define a categorical ordering for the segments\n",
    "segment_order = ['lower', 'mid', 'higher', 'out_of_range']\n",
    "external_segmented['Tg_segment'] = pd.Categorical(\n",
    "    external_segmented['Tg_segment'], categories=segment_order, ordered=True\n",
    ")"
   ]
  },
  {
   "cell_type": "code",
   "execution_count": 140,
   "id": "339770c8",
   "metadata": {},
   "outputs": [
    {
     "name": "stdout",
     "output_type": "stream",
     "text": [
      "             Tg    Ta     Tc    Tg_segment\n",
      "166   31.280000  22.8  36.44         lower\n",
      "1621  31.302500  23.6  36.54         lower\n",
      "1252  31.340000  23.0  36.59         lower\n",
      "1323  31.412500  26.7  36.94         lower\n",
      "1238  31.463333  22.7  37.34         lower\n",
      "...         ...   ...    ...           ...\n",
      "122   36.975000  23.2  40.34        higher\n",
      "1144  37.136667  23.2  40.34        higher\n",
      "799   37.212500  28.6  39.54        higher\n",
      "1808  37.693333  28.6  39.54        higher\n",
      "1189  30.225000  22.8  36.44  out_of_range\n",
      "\n",
      "[2029 rows x 4 columns]\n"
     ]
    }
   ],
   "source": [
    "# Sort the data first by segment and then by the Tg value\n",
    "external_segmented_sorted = external_segmented.sort_values(by=['Tg_segment', 'Tg'], ascending=True)\n",
    "\n",
    "print(external_segmented_sorted)"
   ]
  },
  {
   "cell_type": "code",
   "execution_count": 141,
   "id": "a89a2b42",
   "metadata": {},
   "outputs": [
    {
     "name": "stdout",
     "output_type": "stream",
     "text": [
      "Number of Records Based on Tg Segments\n",
      "Tg_segment\n",
      "lower            540\n",
      "mid             1446\n",
      "higher            42\n",
      "out_of_range       1\n",
      "Name: count, dtype: int64\n"
     ]
    }
   ],
   "source": [
    "segment_counts = external_segmented_sorted['Tg_segment'].value_counts(sort=False)\n",
    "print(\"Number of Records Based on Tg Segments\")\n",
    "print(segment_counts)"
   ]
  },
  {
   "cell_type": "code",
   "execution_count": 142,
   "id": "c6be52c1",
   "metadata": {},
   "outputs": [
    {
     "data": {
      "image/png": "[encoded data removed]",
      "text/plain": [
       "<Figure size 1200x800 with 1 Axes>"
      ]
     },
     "metadata": {},
     "output_type": "display_data"
    }
   ],
   "source": [
    "# Ensure the directory exists\n",
    "os.makedirs('../reports/figures', exist_ok=True)\n",
    "\n",
    "# Add visualization counting the number of records based on segments\n",
    "plt.figure()\n",
    "sns.barplot(x=segment_counts.index, y=segment_counts.values)\n",
    "\n",
    "plt.xlabel(\"Temperature Segment\")\n",
    "plt.ylabel(\"Number of Records\")\n",
    "plt.title(\"Number of Records Based on Tg Segments\")\n",
    "\n",
    "# Save the figure automatically to the specified directory\n",
    "plt.savefig('../reports/figures/number_of_records_based_on_tg_segments.png', dpi=300, bbox_inches='tight')\n",
    "\n",
    "plt.show()"
   ]
  }
 ],
 "metadata": {
  "kernelspec": {
   "display_name": "Python 3",
   "language": "python",
   "name": "python3"
  },
  "language_info": {
   "codemirror_mode": {
    "name": "ipython",
    "version": 3
   },
   "file_extension": ".py",
   "mimetype": "text/x-python",
   "name": "python",
   "nbconvert_exporter": "python",
   "pygments_lexer": "ipython3",
   "version": "3.13.3"
  }
 },
 "nbformat": 4,
 "nbformat_minor": 5
}
