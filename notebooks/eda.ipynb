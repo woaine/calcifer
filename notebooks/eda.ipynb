{
 "cells": [
  {
   "cell_type": "code",
   "execution_count": 1,
   "id": "b0d0bda0",
   "metadata": {},
   "outputs": [],
   "source": [
    "import pandas as pd\n",
    "import matplotlib.pyplot as plt\n",
    "import seaborn as sns\n",
    "\n",
    "# Set the style for the plots\n",
    "sns.set_palette(\"viridis\")\n",
    "plt.rcParams[\"figure.figsize\"] = (12, 8)\n",
    "plt.rcParams['axes.grid'] = True"
   ]
  },
  {
   "cell_type": "code",
   "execution_count": 3,
   "id": "8d12a60d",
   "metadata": {},
   "outputs": [
    {
     "name": "stdout",
     "output_type": "stream",
     "text": [
      "external data loaded successfully with 2029 rows and 3 columns.\n"
     ]
    }
   ],
   "source": [
    "# Load the external dataset\n",
    "def load_data(filepath, name):\n",
    "    df = pd.read_csv(filepath)\n",
    "    print(f\"{name} data loaded successfully with {df.shape[0]} rows and {df.shape[1]} columns.\")\n",
    "    return df\n",
    "\n",
    "external = load_data(r\"d:\\GitHub\\calcifer\\data\\interim\\cleaned_external_data.csv\", \"external\")"
   ]
  }
 ],
 "metadata": {
  "kernelspec": {
   "display_name": "Python 3",
   "language": "python",
   "name": "python3"
  },
  "language_info": {
   "codemirror_mode": {
    "name": "ipython",
    "version": 3
   },
   "file_extension": ".py",
   "mimetype": "text/x-python",
   "name": "python",
   "nbconvert_exporter": "python",
   "pygments_lexer": "ipython3",
   "version": "3.13.3"
  }
 },
 "nbformat": 4,
 "nbformat_minor": 5
}
